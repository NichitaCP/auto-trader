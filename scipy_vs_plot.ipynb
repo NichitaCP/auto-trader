{
 "cells": [
  {
   "metadata": {
    "ExecuteTime": {
     "end_time": "2024-09-16T09:44:16.928713Z",
     "start_time": "2024-09-16T09:44:16.925214Z"
    }
   },
   "cell_type": "code",
   "source": [
    "import datetime as dt\n",
    "from src.strategy_testing.optimizer_refactored import get_mt5_data, connect_to_mt5, prepare_data_for_backtest_optimization\n",
    "import MetaTrader5 as mt5\n",
    "import pytz\n",
    "import pandas as pd\n",
    "import mplfinance as mpf\n",
    "import time"
   ],
   "id": "c1a8a11560d8f746",
   "outputs": [],
   "execution_count": 72
  },
  {
   "metadata": {
    "ExecuteTime": {
     "end_time": "2024-09-16T09:34:43.342184Z",
     "start_time": "2024-09-16T09:34:43.336186Z"
    }
   },
   "cell_type": "code",
   "source": [
    "login=1510009878\n",
    "password=\"825$tnr$DJ\"\n",
    "server=\"FTMO-Demo\""
   ],
   "id": "7fff4aec28bac463",
   "outputs": [],
   "execution_count": 63
  },
  {
   "metadata": {
    "ExecuteTime": {
     "end_time": "2024-09-16T09:34:43.353186Z",
     "start_time": "2024-09-16T09:34:43.342690Z"
    }
   },
   "cell_type": "code",
   "source": "mt5.initialize()",
   "id": "d53820b3cd6a8926",
   "outputs": [
    {
     "data": {
      "text/plain": [
       "True"
      ]
     },
     "execution_count": 64,
     "metadata": {},
     "output_type": "execute_result"
    }
   ],
   "execution_count": 64
  },
  {
   "metadata": {
    "ExecuteTime": {
     "end_time": "2024-09-16T09:34:43.358184Z",
     "start_time": "2024-09-16T09:34:43.354195Z"
    }
   },
   "cell_type": "code",
   "source": "mt5.login(login=login, password=password, server=server)",
   "id": "11aae67b3d05ffcb",
   "outputs": [
    {
     "data": {
      "text/plain": [
       "True"
      ]
     },
     "execution_count": 65,
     "metadata": {},
     "output_type": "execute_result"
    }
   ],
   "execution_count": 65
  },
  {
   "metadata": {
    "ExecuteTime": {
     "end_time": "2024-09-16T09:44:29.546959Z",
     "start_time": "2024-09-16T09:44:29.543954Z"
    }
   },
   "cell_type": "code",
   "source": [
    "expiration_time = dt.datetime.now() + dt.timedelta(minutes=45)\n",
    "expiration_timestamp = int(time.mktime(expiration_time.timetuple()))"
   ],
   "id": "64a9bc9aa5384d5b",
   "outputs": [],
   "execution_count": 73
  },
  {
   "metadata": {
    "ExecuteTime": {
     "end_time": "2024-09-16T09:44:33.033540Z",
     "start_time": "2024-09-16T09:44:33.030047Z"
    }
   },
   "cell_type": "code",
   "source": "expiration_timestamp",
   "id": "350546c5c2ac098e",
   "outputs": [
    {
     "data": {
      "text/plain": [
       "1726482569"
      ]
     },
     "execution_count": 74,
     "metadata": {},
     "output_type": "execute_result"
    }
   ],
   "execution_count": 74
  },
  {
   "metadata": {
    "ExecuteTime": {
     "end_time": "2024-09-16T12:43:30.132129Z",
     "start_time": "2024-09-16T12:43:30.127629Z"
    }
   },
   "cell_type": "code",
   "source": "mt5.positions_get(symbol=\"EURUSD\")",
   "id": "543d3ed8010347d3",
   "outputs": [
    {
     "data": {
      "text/plain": [
       "(TradePosition(ticket=177344930, time=1726485589, time_msc=1726485589743, time_update=1726485589, time_update_msc=1726485589743, type=0, magic=234000, identifier=177344930, reason=3, volume=1.3900000000000001, price_open=1.11214, sl=1.11068, tp=1.11558, price_current=1.1121, swap=0.0, profit=-5.0, symbol='EURUSD', comment='Opened trade', external_id=''),\n",
       " TradePosition(ticket=177359511, time=1726488919, time_msc=1726488919516, time_update=1726488919, time_update_msc=1726488919516, type=0, magic=234000, identifier=177359511, reason=3, volume=1.29, price_open=1.11278, sl=1.11123, tp=1.1165, price_current=1.1121, swap=0.0, profit=-78.88, symbol='EURUSD', comment='Opened trade', external_id=''))"
      ]
     },
     "execution_count": 75,
     "metadata": {},
     "output_type": "execute_result"
    }
   ],
   "execution_count": 75
  },
  {
   "metadata": {
    "ExecuteTime": {
     "end_time": "2024-09-16T18:12:35.762477Z",
     "start_time": "2024-09-16T18:12:35.759467Z"
    }
   },
   "cell_type": "code",
   "source": [
    "from src.livetesting.open_order import request_open_order\n",
    "import datetime as dt\n",
    "expiration = dt.datetime.now(dt.timezone.utc) + dt.timedelta(minutes=45)"
   ],
   "id": "4f17ef42861a3434",
   "outputs": [],
   "execution_count": 100
  },
  {
   "metadata": {
    "ExecuteTime": {
     "end_time": "2024-09-16T18:17:12.913943Z",
     "start_time": "2024-09-16T18:17:12.910947Z"
    }
   },
   "cell_type": "code",
   "source": "server_time = mt5.symbol_info_tick(\"EURJPY\").time",
   "id": "520611172f03a76f",
   "outputs": [],
   "execution_count": 105
  },
  {
   "metadata": {
    "ExecuteTime": {
     "end_time": "2024-09-16T18:17:20.880175Z",
     "start_time": "2024-09-16T18:17:20.876169Z"
    }
   },
   "cell_type": "code",
   "source": "server_time + 45*60",
   "id": "d299621768f30e76",
   "outputs": [
    {
     "data": {
      "text/plain": [
       "1726524130"
      ]
     },
     "execution_count": 106,
     "metadata": {},
     "output_type": "execute_result"
    }
   ],
   "execution_count": 106
  },
  {
   "metadata": {
    "ExecuteTime": {
     "end_time": "2024-09-16T18:17:32.100386Z",
     "start_time": "2024-09-16T18:17:31.996991Z"
    }
   },
   "cell_type": "code",
   "source": [
    "request_open_order(symbol=\"EURJPY\",\n",
    "                   lot_size=0.01,\n",
    "                   order_type=mt5.ORDER_TYPE_BUY_STOP,\n",
    "                   price=159.00,\n",
    "                   stop_loss=100.00,\n",
    "                   take_profit=175.00,\n",
    "                   round_factor=2,\n",
    "                   expiration=server_time + 45*60)"
   ],
   "id": "436244a932cac01e",
   "outputs": [
    {
     "name": "stdout",
     "output_type": "stream",
     "text": [
      "Order send response: OrderSendResult(retcode=10009, deal=0, order=177513559, volume=0.01, price=0.0, bid=159.0, ask=159.0, comment='Request executed', request_id=3031994347, retcode_external=0, request=TradeRequest(action=5, magic=25122017, order=0, symbol='EURJPY', volume=0.01, price=159.0, stoplimit=0.0, sl=100.0, tp=175.0, deviation=25, type=4, type_filling=2, type_time=2, expiration=1726524130, comment='Opened trade with Python bot', position=0, position_by=0))\n",
      "Order successfully sent!\n"
     ]
    }
   ],
   "execution_count": 107
  },
  {
   "metadata": {},
   "cell_type": "code",
   "outputs": [],
   "execution_count": null,
   "source": "",
   "id": "70b1f31e872e83da"
  }
 ],
 "metadata": {
  "kernelspec": {
   "display_name": "Python 3",
   "language": "python",
   "name": "python3"
  },
  "language_info": {
   "codemirror_mode": {
    "name": "ipython",
    "version": 2
   },
   "file_extension": ".py",
   "mimetype": "text/x-python",
   "name": "python",
   "nbconvert_exporter": "python",
   "pygments_lexer": "ipython2",
   "version": "2.7.6"
  }
 },
 "nbformat": 4,
 "nbformat_minor": 5
}
